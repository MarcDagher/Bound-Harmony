{
 "cells": [
  {
   "cell_type": "code",
   "execution_count": 49,
   "metadata": {},
   "outputs": [],
   "source": [
    "import numpy as np \n",
    "import pandas as pd "
   ]
  },
  {
   "cell_type": "code",
   "execution_count": 50,
   "metadata": {},
   "outputs": [],
   "source": [
    "dataframe = pd.read_csv('data/Exploring Interests in Individuals and In Couples.csv', na_values='NaN')"
   ]
  },
  {
   "cell_type": "code",
   "execution_count": 51,
   "metadata": {},
   "outputs": [],
   "source": [
    "## Removing singles\n",
    "\n",
    "couple_validation_column = dataframe['Are you currently in a relationship?']\n",
    "for i in range(len(couple_validation_column)):\n",
    "  if (np.where(dataframe['Are you currently in a relationship?'][i] == \"Yes\", 1, 0) == 0):\n",
    "    dataframe = dataframe.drop(i ,axis = 0) "
   ]
  },
  {
   "cell_type": "code",
   "execution_count": 52,
   "metadata": {},
   "outputs": [],
   "source": [
    "## Deleting unecessary columns\n",
    "\n",
    "dataframe = dataframe.drop('Unnamed: 36', axis = 1)\n",
    "dataframe = dataframe.drop( '''What are some of your hobbies/interests that weren't included in the questions until now? If none then type in \"n/a\".''', \n",
    "                           axis = 1)\n",
    "dataframe = dataframe.drop('What is one thing, or multiple things, that you struggle with in your relationship? (If none then type in \"n/a\")', axis = 1)  "
   ]
  },
  {
   "cell_type": "code",
   "execution_count": 53,
   "metadata": {},
   "outputs": [],
   "source": [
    "dataframe## Add age range values, as binary, to their respective indicator columns\n",
    "\n",
    "dataframe['35+'] = np.where(dataframe['Age range'] == 'Above 35', 1, 0)\n",
    "dataframe['18'] = np.where(dataframe['Age range'] == 'Below 18', 1, 0)\n",
    "dataframe['25 - 35'] = np.where(dataframe['Age range'] == '25 - 35', 1, 0)\n",
    "dataframe['18 - 24'] = np.where(dataframe['Age range'] == '18 - 24', 1, 0)\n",
    "\n",
    "## delete original non-binary column\n",
    "dataframe = dataframe.drop('Age range', axis = 1)\n",
    "\n",
    "## Rename age range indicator columns\n",
    "dataframe = dataframe.rename(columns={\"35+\" : \"is_Above_35\",\n",
    "                          \"18\" : \"is_Below_18\",\n",
    "                          \"25 - 35\" : \"is_Between_25_and_35\",\n",
    "                          \"18 - 24\" : \"is_Between_18_and_24\", \n",
    "                          })"
   ]
  },
  {
   "cell_type": "code",
   "execution_count": 54,
   "metadata": {},
   "outputs": [],
   "source": [
    "## Change relationship validation column to binary\n",
    "dataframe['Are you currently in a relationship?'] = np.where(dataframe['Are you currently in a relationship?'] == 'Yes', 1, 0)"
   ]
  },
  {
   "cell_type": "code",
   "execution_count": 74,
   "metadata": {},
   "outputs": [
    {
     "ename": "KeyError",
     "evalue": "'Select the choices that describe your partner:'",
     "output_type": "error",
     "traceback": [
      "\u001b[1;31m---------------------------------------------------------------------------\u001b[0m",
      "\u001b[1;31mKeyError\u001b[0m                                  Traceback (most recent call last)",
      "File \u001b[1;32mc:\\Users\\Dagher\\AppData\\Local\\Programs\\Python\\Python310\\lib\\site-packages\\pandas\\core\\indexes\\base.py:3802\u001b[0m, in \u001b[0;36mIndex.get_loc\u001b[1;34m(self, key)\u001b[0m\n\u001b[0;32m   3801\u001b[0m \u001b[38;5;28;01mtry\u001b[39;00m:\n\u001b[1;32m-> 3802\u001b[0m     \u001b[38;5;28;01mreturn\u001b[39;00m \u001b[38;5;28;43mself\u001b[39;49m\u001b[38;5;241;43m.\u001b[39;49m\u001b[43m_engine\u001b[49m\u001b[38;5;241;43m.\u001b[39;49m\u001b[43mget_loc\u001b[49m\u001b[43m(\u001b[49m\u001b[43mcasted_key\u001b[49m\u001b[43m)\u001b[49m\n\u001b[0;32m   3803\u001b[0m \u001b[38;5;28;01mexcept\u001b[39;00m \u001b[38;5;167;01mKeyError\u001b[39;00m \u001b[38;5;28;01mas\u001b[39;00m err:\n",
      "File \u001b[1;32mindex.pyx:153\u001b[0m, in \u001b[0;36mpandas._libs.index.IndexEngine.get_loc\u001b[1;34m()\u001b[0m\n",
      "File \u001b[1;32mindex.pyx:182\u001b[0m, in \u001b[0;36mpandas._libs.index.IndexEngine.get_loc\u001b[1;34m()\u001b[0m\n",
      "File \u001b[1;32mpandas\\\\_libs\\\\hashtable_class_helper.pxi:7081\u001b[0m, in \u001b[0;36mpandas._libs.hashtable.PyObjectHashTable.get_item\u001b[1;34m()\u001b[0m\n",
      "File \u001b[1;32mpandas\\\\_libs\\\\hashtable_class_helper.pxi:7089\u001b[0m, in \u001b[0;36mpandas._libs.hashtable.PyObjectHashTable.get_item\u001b[1;34m()\u001b[0m\n",
      "\u001b[1;31mKeyError\u001b[0m: 'Select the choices that describe your partner:'",
      "\nThe above exception was the direct cause of the following exception:\n",
      "\u001b[1;31mKeyError\u001b[0m                                  Traceback (most recent call last)",
      "Cell \u001b[1;32mIn[74], line 23\u001b[0m\n\u001b[0;32m     20\u001b[0m \u001b[38;5;28;01mfor\u001b[39;00m option \u001b[38;5;129;01min\u001b[39;00m Q_23_binary_column_names:\n\u001b[0;32m     21\u001b[0m   dataframe[option] \u001b[38;5;241m=\u001b[39m \u001b[38;5;241m0\u001b[39m\n\u001b[1;32m---> 23\u001b[0m column \u001b[38;5;241m=\u001b[39m \u001b[43mdataframe\u001b[49m\u001b[43m[\u001b[49m\u001b[38;5;124;43m'\u001b[39;49m\u001b[38;5;124;43mSelect the choices that describe your partner:\u001b[39;49m\u001b[38;5;124;43m'\u001b[39;49m\u001b[43m]\u001b[49m\n\u001b[0;32m     25\u001b[0m \u001b[38;5;66;03m## Search for value in the column's row and add 1 in the record of its respective binary column\u001b[39;00m\n\u001b[0;32m     27\u001b[0m \u001b[38;5;28;01mfor\u001b[39;00m i \u001b[38;5;129;01min\u001b[39;00m \u001b[38;5;28mrange\u001b[39m(\u001b[38;5;28mlen\u001b[39m(column)):\n",
      "File \u001b[1;32mc:\\Users\\Dagher\\AppData\\Local\\Programs\\Python\\Python310\\lib\\site-packages\\pandas\\core\\frame.py:4090\u001b[0m, in \u001b[0;36mDataFrame.__getitem__\u001b[1;34m(self, key)\u001b[0m\n\u001b[0;32m   4088\u001b[0m \u001b[38;5;28;01mif\u001b[39;00m \u001b[38;5;28mself\u001b[39m\u001b[38;5;241m.\u001b[39mcolumns\u001b[38;5;241m.\u001b[39mnlevels \u001b[38;5;241m>\u001b[39m \u001b[38;5;241m1\u001b[39m:\n\u001b[0;32m   4089\u001b[0m     \u001b[38;5;28;01mreturn\u001b[39;00m \u001b[38;5;28mself\u001b[39m\u001b[38;5;241m.\u001b[39m_getitem_multilevel(key)\n\u001b[1;32m-> 4090\u001b[0m indexer \u001b[38;5;241m=\u001b[39m \u001b[38;5;28;43mself\u001b[39;49m\u001b[38;5;241;43m.\u001b[39;49m\u001b[43mcolumns\u001b[49m\u001b[38;5;241;43m.\u001b[39;49m\u001b[43mget_loc\u001b[49m\u001b[43m(\u001b[49m\u001b[43mkey\u001b[49m\u001b[43m)\u001b[49m\n\u001b[0;32m   4091\u001b[0m \u001b[38;5;28;01mif\u001b[39;00m is_integer(indexer):\n\u001b[0;32m   4092\u001b[0m     indexer \u001b[38;5;241m=\u001b[39m [indexer]\n",
      "File \u001b[1;32mc:\\Users\\Dagher\\AppData\\Local\\Programs\\Python\\Python310\\lib\\site-packages\\pandas\\core\\indexes\\base.py:3809\u001b[0m, in \u001b[0;36mIndex.get_loc\u001b[1;34m(self, key)\u001b[0m\n\u001b[0;32m   3804\u001b[0m     \u001b[38;5;28;01mif\u001b[39;00m \u001b[38;5;28misinstance\u001b[39m(casted_key, \u001b[38;5;28mslice\u001b[39m) \u001b[38;5;129;01mor\u001b[39;00m (\n\u001b[0;32m   3805\u001b[0m         \u001b[38;5;28misinstance\u001b[39m(casted_key, abc\u001b[38;5;241m.\u001b[39mIterable)\n\u001b[0;32m   3806\u001b[0m         \u001b[38;5;129;01mand\u001b[39;00m \u001b[38;5;28many\u001b[39m(\u001b[38;5;28misinstance\u001b[39m(x, \u001b[38;5;28mslice\u001b[39m) \u001b[38;5;28;01mfor\u001b[39;00m x \u001b[38;5;129;01min\u001b[39;00m casted_key)\n\u001b[0;32m   3807\u001b[0m     ):\n\u001b[0;32m   3808\u001b[0m         \u001b[38;5;28;01mraise\u001b[39;00m InvalidIndexError(key)\n\u001b[1;32m-> 3809\u001b[0m     \u001b[38;5;28;01mraise\u001b[39;00m \u001b[38;5;167;01mKeyError\u001b[39;00m(key) \u001b[38;5;28;01mfrom\u001b[39;00m \u001b[38;5;21;01merr\u001b[39;00m\n\u001b[0;32m   3810\u001b[0m \u001b[38;5;28;01mexcept\u001b[39;00m \u001b[38;5;167;01mTypeError\u001b[39;00m:\n\u001b[0;32m   3811\u001b[0m     \u001b[38;5;66;03m# If we have a listlike key, _check_indexing_error will raise\u001b[39;00m\n\u001b[0;32m   3812\u001b[0m     \u001b[38;5;66;03m#  InvalidIndexError. Otherwise we fall through and re-raise\u001b[39;00m\n\u001b[0;32m   3813\u001b[0m     \u001b[38;5;66;03m#  the TypeError.\u001b[39;00m\n\u001b[0;32m   3814\u001b[0m     \u001b[38;5;28mself\u001b[39m\u001b[38;5;241m.\u001b[39m_check_indexing_error(key)\n",
      "\u001b[1;31mKeyError\u001b[0m: 'Select the choices that describe your partner:'"
     ]
    }
   ],
   "source": [
    "# ## Initialize column names to create columns\n",
    "\n",
    "Q_23_binary_column_names = [\n",
    "  'partner_is_Thoughtful', \n",
    "  'partner_is_Compassionate', \n",
    "  'partner_is_Supportive', \n",
    "  'partner_is_Understanding', \n",
    "  'partner_is_Patient', \n",
    "  'partner_is_Dishonest', \n",
    "  'partner_is_Poor_communication_skills', \n",
    "  'partner_is_Un-empathetic', \n",
    "  'partner_is_Selfish', \n",
    "  'partner_is_Poor_temper_control', \n",
    "  'partner_is_Unreliable', \n",
    "  'partner_is_Close-minded', \n",
    "  'partner_is_Impatient', \n",
    "  'partner_is_Controlling', \n",
    "]\n",
    "\n",
    "for option in Q_23_binary_column_names:\n",
    "  dataframe[option] = 0\n",
    "\n",
    "column = dataframe['Select the choices that describe your partner:']\n",
    "\n",
    "## Search for value in the column's row and add 1 in the record of its respective binary column\n",
    "\n",
    "for i in range(len(column)):\n",
    "  if (i in dataframe.index):\n",
    "    if (type(column[i]) != float):\n",
    "      words = column[i].split(';')\n",
    "      for word in words:\n",
    "        option = f\"partner_is_{word.replace(' ', '_')}\"\n",
    "        if (option in Q_23_binary_column_names):\n",
    "          # dataframe[option][i] = 1\n",
    "          dataframe.loc[i, option] = 1\n",
    "        else: \n",
    "          dataframe.loc[i, option] = 0\n",
    "\n",
    "# ## Delete non-binary column\n",
    "# dataframe = dataframe.drop('Select the choices that describe your partner:', axis = 1)\n"
   ]
  },
  {
   "cell_type": "code",
   "execution_count": 56,
   "metadata": {},
   "outputs": [],
   "source": [
    "## Initialize column names to create columns\n",
    "\n",
    "Q_24_binary_column_names = [\n",
    "  'user_is_Thoughtful', \n",
    "  'user_is_Compassionate', \n",
    "  'user_is_Supportive', \n",
    "  'user_is_Understanding', \n",
    "  'user_is_Patient', \n",
    "  'user_is_Dishonest', \n",
    "  'user_is_Poor_communication_skills', \n",
    "  'user_is_Un-empathetic', \n",
    "  'user_is_Selfish', \n",
    "  'user_is_Poor_temper_control', \n",
    "  'user_is_Unreliable', \n",
    "  'user_is_Close-minded', \n",
    "  'user_is_Impatient', \n",
    "  'user_is_Controlling', \n",
    "]\n",
    "\n",
    "for option in Q_24_binary_column_names:\n",
    "  dataframe[option] = 0\n",
    "\n",
    "column = dataframe[\"Select the choices that describe yourself:\"]\n",
    "\n",
    "## Search for value in the column's row and add 1 in the record of its respective binary column\n",
    "for i in range(len(column)):\n",
    "  if (i in dataframe.index):  \n",
    "    if (type(column[i]) != float):\n",
    "      words = column[i].split(';')\n",
    "      for word in words:\n",
    "        option = f\"user_is_{word.replace(' ', '_')}\"\n",
    "        if (option in Q_24_binary_column_names):\n",
    "          dataframe.loc[i, option] = 1\n",
    "\n",
    "## Delete non-binary column\n",
    "dataframe = dataframe.drop(\"Select the choices that describe yourself:\", axis = 1)"
   ]
  },
  {
   "cell_type": "code",
   "execution_count": 57,
   "metadata": {},
   "outputs": [],
   "source": [
    "## Initialize column names to create columns\n",
    "\n",
    "Q25_binary_column_names = [\n",
    "  \"couple_has_Communication_(Healthy_conflict_resolution_included)\",\n",
    "  \"couple_has_Trust_and_Commitment\",\n",
    "  \"couple_has_Respect\",\n",
    "  \"couple_has_Support\",\n",
    "  \"couple_has_Shared Values_(Alignment_on_important_issues)\",\n",
    "  \"couple_has_Intimacy\",\n",
    "  \"couple_has_Independence\",\n",
    "  \"couple_has_I_will_pass_on_this_one...\",\n",
    "]\n",
    "\n",
    "for binary_column_name in Q25_binary_column_names:\n",
    "  dataframe[binary_column_name] = 0\n",
    "\n",
    "column = dataframe['Select the qualities that are not missing in your current relationship:']\n",
    "\n",
    "## Search for value in the column's row and add 1 in the record of its respective binary column\n",
    "for i in range(len(column)):\n",
    "  if (i in dataframe.index):  \n",
    "    if (type(column[i]) != float):\n",
    "      words = column[i].split(';') \n",
    "      for word in words:\n",
    "        option = f\"couple_has_{word.replace(' ', '_')}\"\n",
    "        if (option in Q25_binary_column_names):\n",
    "          dataframe.loc[i, option] = 1\n",
    "\n",
    "## Delete non-binary column\n",
    "dataframe = dataframe.drop('Select the qualities that are not missing in your current relationship:', axis = 1)"
   ]
  },
  {
   "cell_type": "code",
   "execution_count": null,
   "metadata": {},
   "outputs": [],
   "source": [
    "## Initialize column names to create columns\n",
    "\n",
    "Q26_binary_column_names = [\n",
    "  \"couple_enjoys_Outdoor_and_Nature_Activities\",\n",
    "  \"couple_enjoys_Social_and_Entertainment_(Shopping,_Dining,_Parties,_Bars_...)\",\n",
    "  \"couple_enjoys_Sports_or_any_physical_activity\",\n",
    "  \"couple_enjoys_Relaxation_and_Self-care_(Yoga,_spa_...)\",\n",
    "  \"couple_enjoys_Spiritual_activities_(Meditation,_prayers_...)\",\n",
    "  \"couple_enjoys_Cultural_and_Educational_(Museums,_Historical_sites_...)\",\n",
    "  \"couple_enjoys_Entertainment_(Movies,_Amusement_parks_...)\"\n",
    "]\n",
    "\n",
    "for binary_column_name in Q26_binary_column_names:\n",
    "  dataframe[binary_column_name] = 0\n",
    "\n",
    "column = dataframe['Select the type of activities/outings that you enjoy doing with your partner:']\n",
    "\n",
    "## Search for value in the column's row and add 1 in the record of its respective binary column\n",
    "for i in range(len(column)):\n",
    "  if (i in dataframe.index):\n",
    "    if (type(column[i]) != float):\n",
    "      words = column[i].split(';') \n",
    "      for word in words:\n",
    "        option = f\"couple_enjoys_{word.replace(' ', '_')}\"\n",
    "        if (option in Q26_binary_column_names):\n",
    "          dataframe.loc[i, option] = 1\n",
    "\n",
    "\n",
    "## Delete non-binary column\n",
    "dataframe = dataframe.drop('Select the type of activities/outings that you enjoy doing with your partner:', axis = 1)"
   ]
  },
  {
   "cell_type": "code",
   "execution_count": 59,
   "metadata": {},
   "outputs": [],
   "source": [
    "## Create a new binary column for each unique value in question 28's column \n",
    "\n",
    "Q28_binary_column_names = dataframe['How often do you and your partner spend quality time together per week?'].unique()\n",
    "for value in Q28_binary_column_names:\n",
    "  if (type(value) != float):\n",
    "    Q_28_column_name = f\"is_{value.replace(' ', '_')}\"\n",
    "    dataframe[Q_28_column_name] = np.where(dataframe['How often do you and your partner spend quality time together per week?'] == value, 1, 0)\n",
    "\n",
    "## Delete non-binary column\n",
    "dataframe = dataframe.drop('How often do you and your partner spend quality time together per week?', axis = 1)"
   ]
  },
  {
   "cell_type": "code",
   "execution_count": 60,
   "metadata": {},
   "outputs": [],
   "source": [
    "## Create a new binary column for each unique value in question 22's column \n",
    "\n",
    "Q22_binary_column_names = dataframe['How do you feel about your current relationship?'].unique()\n",
    "for value in Q22_binary_column_names:\n",
    "  if (type(value) != float):\n",
    "    Q22_column_name = f\"relationship_is_{value.replace(' ', '_').split('.')[0]}\"\n",
    "    dataframe[Q22_column_name] = np.where(dataframe['How do you feel about your current relationship?'] == value, 1, 0) \n",
    "\n",
    "## Delete non-binary column\n",
    "dataframe = dataframe.drop('How do you feel about your current relationship?', axis=1)"
   ]
  },
  {
   "cell_type": "code",
   "execution_count": 62,
   "metadata": {},
   "outputs": [],
   "source": [
    "import arff\n",
    "\n",
    "# Assuming 'dataframe' is your pandas DataFrame\n",
    "with open('couples.arff', 'w') as f:\n",
    "    arff.dump({\n",
    "        'data': dataframe.values.tolist(),\n",
    "        'attributes': [(col, 'NUMERIC') for col in dataframe.columns],\n",
    "        'relation': 'relation name'\n",
    "    }, f)"
   ]
  },
  {
   "cell_type": "code",
   "execution_count": 64,
   "metadata": {},
   "outputs": [],
   "source": [
    "dataframe.to_csv('couples_data_csv', index=False)"
   ]
  },
  {
   "cell_type": "code",
   "execution_count": null,
   "metadata": {},
   "outputs": [],
   "source": [
    "dataframe.iloc[1:40,10:40]"
   ]
  }
 ],
 "metadata": {
  "kernelspec": {
   "display_name": "Python 3",
   "language": "python",
   "name": "python3"
  },
  "language_info": {
   "codemirror_mode": {
    "name": "ipython",
    "version": 3
   },
   "file_extension": ".py",
   "mimetype": "text/x-python",
   "name": "python",
   "nbconvert_exporter": "python",
   "pygments_lexer": "ipython3",
   "version": "3.10.7"
  }
 },
 "nbformat": 4,
 "nbformat_minor": 2
}
