{
 "cells": [
  {
   "cell_type": "code",
   "execution_count": 11,
   "metadata": {},
   "outputs": [],
   "source": [
    "import numpy as np \n",
    "import pandas as pd \n",
    "from sklearn import tree\n",
    "from sklearn.tree import DecisionTreeClassifier\n",
    "import sklearn.model_selection as skmodel\n",
    "import matplotlib.pyplot as plt\n",
    "from sklearn import datasets"
   ]
  },
  {
   "cell_type": "code",
   "execution_count": null,
   "metadata": {},
   "outputs": [],
   "source": [
    "dataframe = pd.read_csv('relationship_status.csv')\n",
    "dataframe"
   ]
  },
  {
   "cell_type": "code",
   "execution_count": 13,
   "metadata": {},
   "outputs": [],
   "source": [
    "attributes = ['is_above_35','is_below_18','is_between_25_and_35','is_between_18_and_24','enjoys_crowded','enjoys_nightlife','enjoys_outdoor','enjoys_nature','enjoys_museums_and_galleries','enjoys_culture_and_education','enjoys_books','is_religious','enjoys_calm','is_spritual','enjoys_self_care','enjoys_clothes_shopping','enjoys_physical_exercise','enjoys_sports','enjoys_restaurants','enjoys_grocery_shopping','hates_shopping','prefers_delivery','enjoys_movie_nights','likes_animals','in_relationship','is_open_top_partners_interests','discuss_future','partner_is_Thoughtful','partner_is_Compassionate','partner_is_Supportive','partner_is_Understanding','partner_is_Patient','partner_is_Dishonest','partner_is_Poor_communication_skills','partner_is_Un_empathetic','partner_is_Selfish','partner_is_Poor_temper_control','partner_is_Unreliable','partner_is_Close_minded','partner_is_Has_good_sense_of_humor','partner_is_Impatient','partner_is_Controlling','user_is_Thoughtful','user_is_Compassionate','user_is_Supportive','user_is_Understanding','user_is_Patient','user_is_Dishonest','user_is_Poor_communication_skills','user_is_Un_empathetic','user_is_Selfish','user_is_Poor_temper_control','user_is_Unreliable','user_is_Close_minded','user_is_Impatient','user_is_Controlling','couple_has_Communication','couple_has_Trust_and_Commitment','couple_has_Respect','couple_has_Support','couple_has_Shared_Values','couple_has_Intimacy','couple_has_Independence','couple_has_none','couple_enjoys_Outdoor_and_Nature_Activities','couple_enjoys_Social_and_Entertainment','couple_enjoys_physical_activity','couple_enjoys_Relaxation_and_Self_care','couple_enjoys_Spiritual_activities','couple_enjoys_Cultural_and_Educational','couple_enjoys_Entertainment','is_A_few_times_a_week','is_Every_once_in_a_while','is_very_busy','is_Every_day']"
   ]
  },
  {
   "cell_type": "code",
   "execution_count": 14,
   "metadata": {},
   "outputs": [],
   "source": [
    "attribute_list = dataframe[attributes]\n",
    "classification_label = dataframe['relationship_status']"
   ]
  },
  {
   "cell_type": "code",
   "execution_count": 17,
   "metadata": {},
   "outputs": [],
   "source": [
    "attribute_train, attribute_test, class_train, class_test = skmodel.train_test_split(attribute_list, classification_label, test_size=0.2, random_state=0)"
   ]
  },
  {
   "cell_type": "code",
   "execution_count": null,
   "metadata": {},
   "outputs": [],
   "source": [
    "decision_tree = DecisionTreeClassifier().fit(attribute_train, class_train)\n",
    "class_names_str = classification_label.astype(str).unique()\n",
    "scores = skmodel.cross_val_score(decision_tree, attribute_list, classification_label, cv = 10)\n",
    "\n",
    "value = scores.mean()\n",
    "\n",
    "response = decision_tree.predict([\n",
    "  ['0','0','0','1','4','5','4','5','2','3','1','5','3','3','4','2','4','4','4','3','4','3','5','5','1','4','5','1','0','1','1','0','0','1','0','0','0','0','0','0','1','0','1','0','1','1','0','0','0','0','0','1','0','0','1','0','1','0','1','0','0','1','0','0','1','1','1','0','0','1','0','1','0','0','0'],\n",
    "  ['0','0','0','1','3','2','5','5','5','5','5','4','4','3','4','3','5','5','4','5','5','3','4','5','1','5','5','0','0','0','0','0','0','1','0','0','1','1','0','0','0','0','1','0','1','1','1','0','1','0','0','0','0','0','0','0','0','0','0','0','0','0','0','1','1','1','1','0','0','1','1','1','0','0','0'],\n",
    "  ['0','0','0','1','5','5','5','5','3','5','5','4','2','5','5','1','5','5','5','1','1','1','5','5','1','5','5','0','0','1','0','1','0','0','0','0','0','0','0','0','0','0','0','0','1','1','1','0','0','0','0','0','0','0','0','0','1','1','1','1','0','1','0','0','0','0','0','1','1','0','0','0','1','0','0'\n",
    "]], \n",
    "  ) #3,0,2\n",
    "\n",
    "text_representation = tree.export_text(decision_tree)\n",
    "print(response)\n",
    "# print(text_representation)\n",
    "\n",
    "fig = plt.figure(figsize=(25,20))\n",
    "_=tree.plot_tree(decision_tree, feature_names= attributes, class_names=class_names_str, filled=True)\n",
    "plt.show()"
   ]
  }
 ],
 "metadata": {
  "kernelspec": {
   "display_name": "Python 3",
   "language": "python",
   "name": "python3"
  },
  "language_info": {
   "codemirror_mode": {
    "name": "ipython",
    "version": 3
   },
   "file_extension": ".py",
   "mimetype": "text/x-python",
   "name": "python",
   "nbconvert_exporter": "python",
   "pygments_lexer": "ipython3",
   "version": "3.10.7"
  }
 },
 "nbformat": 4,
 "nbformat_minor": 2
}
