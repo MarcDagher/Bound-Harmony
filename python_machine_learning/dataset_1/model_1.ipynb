{
 "cells": [
  {
   "cell_type": "code",
   "execution_count": 13,
   "id": "6fc191ee-35f4-4173-bf25-3c5a410373c3",
   "metadata": {},
   "outputs": [],
   "source": [
    "import numpy as np \n",
    "import pandas as pd \n",
    "from sklearn import tree\n",
    "from sklearn.tree import DecisionTreeClassifier\n",
    "import sklearn.model_selection as skmodel\n",
    "import matplotlib.pyplot as plt\n",
    "from sklearn import datasets\n",
    "\n"
   ]
  },
  {
   "cell_type": "code",
   "execution_count": 3,
   "id": "b9fb3c4a",
   "metadata": {},
   "outputs": [],
   "source": [
    "dataframe = pd.read_csv(\"combined_dataset_revised.csv\")"
   ]
  },
  {
   "cell_type": "code",
   "execution_count": null,
   "id": "b4e95986",
   "metadata": {},
   "outputs": [],
   "source": [
    "# divide data into attributes and the last column is saved  as classification\n",
    "\n",
    "attributes = ['is_above_35','is_below_18','is_between_25_and_35','is_between_18_and_24','enjoys_crowded','enjoys_nightlife','enjoys_outdoor','enjoys_nature','enjoys_museums_and_galleries','enjoys_culture_and_education','enjoys_books','is_religious','enjoys_calm','is_spritual','enjoys_self_care','enjoys_clothes_shopping','enjoys_physical_exercise','enjoys_sports','enjoys_restaurants','enjoys_grocery_shopping','hates_shopping','prefers_delivery','enjoys_movie_nights', 'likes_animals']"
   ]
  },
  {
   "cell_type": "code",
   "execution_count": null,
   "id": "5b2fd04d",
   "metadata": {},
   "outputs": [],
   "source": [
    "attribute_list = dataframe[attributes]\n",
    "classification_label = dataframe['in_a_relationship']"
   ]
  },
  {
   "cell_type": "code",
   "execution_count": 6,
   "id": "0d4858e6",
   "metadata": {},
   "outputs": [],
   "source": [
    "attribute_train, attribute_test, class_train, class_test = skmodel.train_test_split(attribute_list, classification_label, test_size = 0.2, random_state= 0)"
   ]
  },
  {
   "cell_type": "code",
   "execution_count": null,
   "id": "abf59a9e",
   "metadata": {},
   "outputs": [],
   "source": [
    "decision_tree = DecisionTreeClassifier().fit(attribute_train, class_train) \n",
    "class_names_str = classification_label.astype(str).unique()\n",
    "scores = skmodel.cross_val_score(decision_tree, attribute_list, classification_label, cv=10)\n",
    "\n",
    "value = scores.mean()\n",
    "\n",
    "# response = decision_tree.predict([['0','0','0','1','4','5','4','5','2','3','1','5','3','3','4','2','4','4','4','3','4','3','5','5']])\n",
    "response = decision_tree.predict([['0' , '0','1','0','2','5','5','5','3','2','3','5','5','4','3','4','4','4','4','2','3','1','2','5'],\n",
    "                                  ['0','0','0','1','4','5','4','5','2','3','1','5','3','3','4','2','4','4','4','3','4','3','5','5'],\n",
    "                                  ['0','0','0','1','2','5','3','5','1','3','1','2','4','3','3','3','3','4','5','4','3','4','4','5']])\n",
    "\n",
    "# text_representation = tree.export_text(decision_tree)\n",
    "# print(text_representation)\n",
    "\n",
    "fig = plt.figure(figsize=(25,20))\n",
    "_=tree.plot_tree(decision_tree, feature_names= attributes, class_names=class_names_str, filled=True)\n",
    "plt.show()"
   ]
  },
  {
   "cell_type": "code",
   "execution_count": null,
   "id": "76085175",
   "metadata": {},
   "outputs": [],
   "source": []
  },
  {
   "cell_type": "code",
   "execution_count": null,
   "id": "be5acf45",
   "metadata": {},
   "outputs": [],
   "source": []
  }
 ],
 "metadata": {
  "kernelspec": {
   "display_name": "Python 3 (ipykernel)",
   "language": "python",
   "name": "python3"
  },
  "language_info": {
   "codemirror_mode": {
    "name": "ipython",
    "version": 3
   },
   "file_extension": ".py",
   "mimetype": "text/x-python",
   "name": "python",
   "nbconvert_exporter": "python",
   "pygments_lexer": "ipython3",
   "version": "3.10.7"
  }
 },
 "nbformat": 4,
 "nbformat_minor": 5
}
