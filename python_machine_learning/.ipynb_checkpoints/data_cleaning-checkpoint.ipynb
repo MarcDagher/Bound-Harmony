{
 "cells": [
  {
   "cell_type": "markdown",
   "id": "e44cab14-df6f-44fb-a0ba-d69fd774fa9c",
   "metadata": {},
   "source": [
    "# Data Cleaning"
   ]
  },
  {
   "cell_type": "code",
   "execution_count": null,
   "id": "6fc191ee-35f4-4173-bf25-3c5a410373c3",
   "metadata": {},
   "outputs": [],
   "source": []
  }
 ],
 "metadata": {
  "kernelspec": {
   "display_name": "Python 3 (ipykernel)",
   "language": "python",
   "name": "python3"
  },
  "language_info": {
   "codemirror_mode": {
    "name": "ipython",
    "version": 3
   },
   "file_extension": ".py",
   "mimetype": "text/x-python",
   "name": "python",
   "nbconvert_exporter": "python",
   "pygments_lexer": "ipython3",
   "version": "3.10.7"
  }
 },
 "nbformat": 4,
 "nbformat_minor": 5
}
