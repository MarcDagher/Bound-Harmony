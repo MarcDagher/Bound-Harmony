{
 "cells": [
  {
   "cell_type": "code",
   "execution_count": 353,
   "id": "6fc191ee-35f4-4173-bf25-3c5a410373c3",
   "metadata": {},
   "outputs": [],
   "source": [
    "import numpy as np \n",
    "import pandas as pd "
   ]
  },
  {
   "cell_type": "code",
   "execution_count": 354,
   "id": "b9fb3c4a",
   "metadata": {},
   "outputs": [],
   "source": [
    "dataframe = pd.read_csv(\"data/Exploring Interests in Individuals and In Couples.csv\", na_values='NaN')"
   ]
  },
  {
   "cell_type": "code",
   "execution_count": 355,
   "id": "421ac133",
   "metadata": {},
   "outputs": [],
   "source": [
    "## Deleting unecessary columns\n",
    "\n",
    "dataframe = dataframe.drop('Unnamed: 36', axis = 1)\n",
    "dataframe = dataframe.drop( '''What are some of your hobbies/interests that weren't included in the questions until now? If none then type in \"n/a\".''', \n",
    "                           axis = 1)\n",
    "dataframe = dataframe.drop('What is one thing, or multiple things, that you struggle with in your relationship? (If none then type in \"n/a\")', axis = 1)  "
   ]
  },
  {
   "cell_type": "code",
   "execution_count": 356,
   "id": "4659deed",
   "metadata": {},
   "outputs": [],
   "source": [
    "## Add age range values, as binary, to their respective indicator columns\n",
    "\n",
    "dataframe['35+'] = np.where(dataframe['Age range'] == 'Above 35', 1, 0)\n",
    "dataframe['18'] = np.where(dataframe['Age range'] == 'Below 18', 1, 0)\n",
    "dataframe['25 - 35'] = np.where(dataframe['Age range'] == '25 - 35', 1, 0)\n",
    "dataframe['18 - 24'] = np.where(dataframe['Age range'] == '18 - 24', 1, 0)\n",
    "\n",
    "## delete original non-binary column\n",
    "dataframe = dataframe.drop('Age range', axis = 1)\n",
    "\n",
    "## Rename age range indicator columns\n",
    "dataframe = dataframe.rename(columns={\"35+\" : \"is_Above_35\",\n",
    "                          \"18\" : \"is_Below_18\",\n",
    "                          \"25 - 35\" : \"is_Between_25_and_35\",\n",
    "                          \"18 - 24\" : \"is_Between_18_and_24\", \n",
    "                          })"
   ]
  },
  {
   "cell_type": "code",
   "execution_count": 357,
   "id": "3dad07e8",
   "metadata": {},
   "outputs": [],
   "source": [
    "## Change relationship validation column to binary\n",
    "dataframe['Are you currently in a relationship?'] = np.where(dataframe['Are you currently in a relationship?'] == 'Yes', 1, 0)"
   ]
  },
  {
   "cell_type": "code",
   "execution_count": 358,
   "id": "46050e94",
   "metadata": {},
   "outputs": [],
   "source": [
    "## Create a new binary column for each unique value in question 22's column \n",
    "\n",
    "column_names_Q22 = dataframe['How do you feel about your current relationship?'].unique()\n",
    "for value in column_names_Q22:\n",
    "  if (type(value) != float):\n",
    "    Q_22column_name = f\"relationship_is_{value.replace(' ', '_').split('.')[0]}\"\n",
    "    dataframe[Q_22column_name] = np.where(dataframe['How do you feel about your current relationship?'] == value, 1, 0) \n",
    "\n",
    "## Delete non-binary column\n",
    "dataframe = dataframe.drop('How do you feel about your current relationship?', axis=1)"
   ]
  },
  {
   "cell_type": "code",
   "execution_count": 359,
   "id": "c3c992d7",
   "metadata": {},
   "outputs": [],
   "source": [
    "## Create a new binary column for each unique value in question 28's column \n",
    "\n",
    "column_names_Q28 = dataframe['How often do you and your partner spend quality time together per week?'].unique()\n",
    "for value in column_names_Q28:\n",
    "  if (type(value) != float):\n",
    "    Q_28_column_name = f\"is_{value.replace(' ', '_')}\"\n",
    "    dataframe[Q_28_column_name] = np.where(dataframe['How often do you and your partner spend quality time together per week?'] == value, 1, 0)\n",
    "\n",
    "## Delete non-binary column\n",
    "dataframe = dataframe.drop('How often do you and your partner spend quality time together per week?', axis = 1)"
   ]
  },
  {
   "cell_type": "code",
   "execution_count": 360,
   "id": "ec3861c2",
   "metadata": {},
   "outputs": [],
   "source": [
    "## Initialize column names to create columns\n",
    "\n",
    "Q_23_column_name = [\n",
    "  'partner_is_Thoughtful', \n",
    "  'partner_is_Compassionate', \n",
    "  'partner_is_Supportive', \n",
    "  'partner_is_Understanding', \n",
    "  'partner_is_Patient', \n",
    "  'partner_is_Dishonest', \n",
    "  'partner_is_Poor_communication_skills', \n",
    "  'partner_is_Un-empathetic', \n",
    "  'partner_is_Selfish', \n",
    "  'partner_is_Poor_temper_control', \n",
    "  'partner_is_Unreliable', \n",
    "  'partner_is_Close-minded', \n",
    "  'partner_is_Impatient', \n",
    "  'partner_is_Controlling', \n",
    "]\n",
    "\n",
    "for option in Q_23_column_name:\n",
    "  dataframe[option] = 0\n",
    "\n",
    "column = dataframe['Select the choices that describe your partner:']\n",
    "\n",
    "## Search for value in the column's row and add 1 in the record of its respective binary column\n",
    "for i in range(len(column)):\n",
    "  if (type(column[i]) != float):\n",
    "    words = column[i].split(';')\n",
    "    for word in words:\n",
    "      option = f\"partner_is_{word.replace(' ', '_')}\"\n",
    "      if (option in Q_23_column_name):\n",
    "        # dataframe[option][i] = 1\n",
    "        dataframe.loc[i, option] = 1\n",
    "\n",
    "## Delete non-binary column\n",
    "dataframe = dataframe.drop('Select the choices that describe your partner:', axis = 1)\n"
   ]
  },
  {
   "cell_type": "code",
   "execution_count": null,
   "id": "8627a174",
   "metadata": {},
   "outputs": [],
   "source": [
    "## Initialize column names to create columns\n",
    "\n",
    "Q_24_column_name = [\n",
    "  'user_is_Thoughtful', \n",
    "  'user_is_Compassionate', \n",
    "  'user_is_Supportive', \n",
    "  'user_is_Understanding', \n",
    "  'user_is_Patient', \n",
    "  'user_is_Dishonest', \n",
    "  'user_is_Poor_communication_skills', \n",
    "  'user_is_Un-empathetic', \n",
    "  'user_is_Selfish', \n",
    "  'user_is_Poor_temper_control', \n",
    "  'user_is_Unreliable', \n",
    "  'user_is_Close-minded', \n",
    "  'user_is_Impatient', \n",
    "  'user_is_Controlling', \n",
    "]\n",
    "\n",
    "for option in Q_24_column_name:\n",
    "  dataframe[option] = 0\n",
    "\n",
    "column = dataframe[\"Select the choices that describe yourself:\"]\n",
    "\n",
    "## Search for value in the column's row and add 1 in the record of its respective binary column\n",
    "for i in range(len(column)):\n",
    "  if (type(column[i]) != float):\n",
    "    words = column[i].split(';')\n",
    "    for word in words:\n",
    "      option = f\"user_is_{word.replace(' ', '_')}\"\n",
    "      if (option in Q_24_column_name):\n",
    "        # dataframe[option][i] = 1\n",
    "        dataframe.loc[i, option] = 1\n",
    "\n",
    "## Delete non-binary column\n",
    "dataframe = dataframe.drop(\"Select the choices that describe yourself:\", axis = 1)"
   ]
  }
 ],
 "metadata": {
  "kernelspec": {
   "display_name": "Python 3 (ipykernel)",
   "language": "python",
   "name": "python3"
  },
  "language_info": {
   "codemirror_mode": {
    "name": "ipython",
    "version": 3
   },
   "file_extension": ".py",
   "mimetype": "text/x-python",
   "name": "python",
   "nbconvert_exporter": "python",
   "pygments_lexer": "ipython3",
   "version": "3.10.7"
  }
 },
 "nbformat": 4,
 "nbformat_minor": 5
}
