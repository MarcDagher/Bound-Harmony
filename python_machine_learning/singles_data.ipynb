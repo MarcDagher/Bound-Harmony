{
 "cells": [
  {
   "cell_type": "code",
   "execution_count": 65,
   "metadata": {},
   "outputs": [],
   "source": [
    "import numpy as np\n",
    "import pandas as pd"
   ]
  },
  {
   "cell_type": "code",
   "execution_count": 66,
   "metadata": {},
   "outputs": [],
   "source": [
    "dataframe = pd.read_csv(\"data/Exploring Interests in Individuals and In Couples.csv\", na_values='NaN')"
   ]
  },
  {
   "cell_type": "code",
   "execution_count": 67,
   "metadata": {},
   "outputs": [],
   "source": [
    "dataframe = dataframe.drop('How do you feel about your current relationship?', axis = 1)\n",
    "dataframe = dataframe.drop('Select the choices that describe your partner:', axis = 1)\n",
    "dataframe = dataframe.drop('Select the choices that describe yourself:', axis = 1)\n",
    "dataframe = dataframe.drop('Select the qualities that are not missing in your current relationship:', axis = 1)\n",
    "dataframe = dataframe.drop(\"I am open to exploring and participating in activities that my partner enjoys, even if they don't fit with my personal preferences.\", axis = 1)\n",
    "dataframe = dataframe.drop('My partner and I discuss and plan for our future together.', axis = 1)\n",
    "dataframe = dataframe.drop('How often do you and your partner spend quality time together per week?', axis = 1)\n",
    "dataframe = dataframe.drop('Select the type of activities/outings that you enjoy doing with your partner:', axis = 1)\n",
    "dataframe = dataframe.drop('What is one thing, or multiple things, that you struggle with in your relationship? (If none then type in \"n/a\")', axis = 1)\n",
    "dataframe = dataframe.drop('Unnamed: 36', axis = 1)\n",
    "dataframe = dataframe.drop('''What are some of your hobbies/interests that weren't included in the questions until now? If none then type in \"n/a\".''', axis = 1)\n"
   ]
  },
  {
   "cell_type": "code",
   "execution_count": 68,
   "metadata": {},
   "outputs": [],
   "source": [
    "## Add age range values, as binary, to their respective indicator columns\n",
    "\n",
    "dataframe['35+'] = np.where(dataframe['Age range'] == 'Above 35', 1, 0)\n",
    "dataframe['18'] = np.where(dataframe['Age range'] == 'Below 18', 1, 0)\n",
    "dataframe['25 - 35'] = np.where(dataframe['Age range'] == '25 - 35', 1, 0)\n",
    "dataframe['18 - 24'] = np.where(dataframe['Age range'] == '18 - 24', 1, 0)\n",
    "\n",
    "## delete original non-binary column\n",
    "dataframe = dataframe.drop('Age range', axis = 1)\n",
    "\n",
    "## Rename age range indicator columns\n",
    "dataframe = dataframe.rename(columns={\"35+\" : \"is_Above_35\",\n",
    "                          \"18\" : \"is_Below_18\",\n",
    "                          \"25 - 35\" : \"is_Between_25_and_35\",\n",
    "                          \"18 - 24\" : \"is_Between_18_and_24\", \n",
    "                          })"
   ]
  },
  {
   "cell_type": "code",
   "execution_count": null,
   "metadata": {},
   "outputs": [],
   "source": [
    "## Change 'Are you currently in a relationship?' to binary\n",
    "\n",
    "dataframe['Are you currently in a relationship?'] = np.where(dataframe['Are you currently in a relationship?'] == 'Yes', 1, 0)"
   ]
  },
  {
   "cell_type": "code",
   "execution_count": null,
   "metadata": {},
   "outputs": [],
   "source": [
    "# import arff\n",
    "\n",
    "# # Assuming 'dataframe' is your pandas DataFrame\n",
    "# with open('singles.arff', 'w') as f:\n",
    "#     arff.dump({\n",
    "#         'data': dataframe.values.tolist(),\n",
    "#         'attributes': [(col, 'NUMERIC') for col in dataframe.columns],\n",
    "#         'relation': 'singles'\n",
    "#     }, f)"
   ]
  },
  {
   "cell_type": "code",
   "execution_count": 72,
   "metadata": {},
   "outputs": [],
   "source": [
    "# dataframe.to_csv('singles_dataset', index = False)"
   ]
  }
 ],
 "metadata": {
  "kernelspec": {
   "display_name": "Python 3",
   "language": "python",
   "name": "python3"
  },
  "language_info": {
   "codemirror_mode": {
    "name": "ipython",
    "version": 3
   },
   "file_extension": ".py",
   "mimetype": "text/x-python",
   "name": "python",
   "nbconvert_exporter": "python",
   "pygments_lexer": "ipython3",
   "version": "3.10.7"
  }
 },
 "nbformat": 4,
 "nbformat_minor": 2
}
