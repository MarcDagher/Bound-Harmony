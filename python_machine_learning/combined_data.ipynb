{
 "cells": [
  {
   "cell_type": "code",
   "execution_count": 2,
   "id": "6fc191ee-35f4-4173-bf25-3c5a410373c3",
   "metadata": {},
   "outputs": [
    {
     "name": "stderr",
     "output_type": "stream",
     "text": [
      "C:\\Users\\Dagher\\AppData\\Local\\Temp\\ipykernel_17604\\200606040.py:2: DeprecationWarning: \n",
      "Pyarrow will become a required dependency of pandas in the next major release of pandas (pandas 3.0),\n",
      "(to allow more performant data types, such as the Arrow string type, and better interoperability with other libraries)\n",
      "but was not found to be installed on your system.\n",
      "If this would cause problems for you,\n",
      "please provide us feedback at https://github.com/pandas-dev/pandas/issues/54466\n",
      "        \n",
      "  import pandas as pd\n"
     ]
    }
   ],
   "source": [
    "import numpy as np \n",
    "import pandas as pd "
   ]
  },
  {
   "cell_type": "code",
   "execution_count": 15,
   "id": "b9fb3c4a",
   "metadata": {},
   "outputs": [],
   "source": [
    "dataframe = pd.read_csv(\"data/Exploring Interests in Individuals and In Couples.csv\")"
   ]
  },
  {
   "cell_type": "code",
   "execution_count": 16,
   "id": "421ac133",
   "metadata": {},
   "outputs": [],
   "source": [
    "## Deleting unecessary columns\n",
    "\n",
    "dataframe = dataframe.drop('Unnamed: 36', axis = 1)\n",
    "dataframe = dataframe.drop( '''What are some of your hobbies/interests that weren't included in the questions until now? If none then type in \"n/a\".''', \n",
    "                           axis = 1)\n",
    "dataframe = dataframe.drop('What is one thing, or multiple things, that you struggle with in your relationship? (If none then type in \"n/a\")', axis = 1)  "
   ]
  },
  {
   "cell_type": "code",
   "execution_count": 17,
   "id": "4659deed",
   "metadata": {},
   "outputs": [],
   "source": [
    "## Add age range values, as binary, to their respective indicator columns\n",
    "\n",
    "dataframe['35+'] = np.where(dataframe['Age range'] == 'Above 35', 1, 0)\n",
    "dataframe['18'] = np.where(dataframe['Age range'] == 'Below 18', 1, 0)\n",
    "dataframe['25 - 35'] = np.where(dataframe['Age range'] == '25 - 35', 1, 0)\n",
    "dataframe['18 - 24'] = np.where(dataframe['Age range'] == '18 - 24', 1, 0)\n",
    "\n",
    "## delete original non-binary column\n",
    "dataframe = dataframe.drop('Age range', axis = 1)\n",
    "\n",
    "## Rename age range indicator columns\n",
    "dataframe = dataframe.rename(columns={\"35+\" : \"is_Above_35\",\n",
    "                          \"18\" : \"is_Below_18\",\n",
    "                          \"25 - 35\" : \"is_Between_25_and_35\",\n",
    "                          \"18 - 24\" : \"is_Between_18_and_24\", \n",
    "                          })"
   ]
  },
  {
   "cell_type": "code",
   "execution_count": 18,
   "id": "3dad07e8",
   "metadata": {},
   "outputs": [],
   "source": [
    "## Change relationship validation column to binary\n",
    "dataframe['Are you currently in a relationship?'] = np.where(dataframe['Are you currently in a relationship?'] == 'Yes', 1, 0)"
   ]
  },
  {
   "cell_type": "code",
   "execution_count": 7,
   "id": "46050e94",
   "metadata": {},
   "outputs": [],
   "source": [
    "## Create a new binary column for each unique value in question 22's column \n",
    "\n",
    "Q22_binary_column_names = dataframe['How do you feel about your current relationship?'].unique()\n",
    "for value in Q22_binary_column_names:\n",
    "  if (type(value) != float):\n",
    "    Q22_column_name = f\"relationship_is_{value.replace(' ', '_').split('.')[0]}\"\n",
    "    dataframe[Q22_column_name] = np.where(dataframe['How do you feel about your current relationship?'] == value, 1, 0) \n",
    "\n",
    "## Delete non-binary column\n",
    "dataframe = dataframe.drop('How do you feel about your current relationship?', axis=1)"
   ]
  },
  {
   "cell_type": "code",
   "execution_count": 8,
   "id": "ec3861c2",
   "metadata": {},
   "outputs": [],
   "source": [
    "## Initialize column names to create columns\n",
    "\n",
    "Q_23_binary_column_names = [\n",
    "  'partner_is_Thoughtful', \n",
    "  'partner_is_Compassionate', \n",
    "  'partner_is_Supportive', \n",
    "  'partner_is_Understanding', \n",
    "  'partner_is_Patient', \n",
    "  'partner_is_Dishonest', \n",
    "  'partner_is_Poor_communication_skills', \n",
    "  'partner_is_Un-empathetic', \n",
    "  'partner_is_Selfish', \n",
    "  'partner_is_Poor_temper_control', \n",
    "  'partner_is_Unreliable', \n",
    "  'partner_is_Close-minded', \n",
    "  'partner_is_Impatient', \n",
    "  'partner_is_Controlling', \n",
    "]\n",
    "\n",
    "for option in Q_23_binary_column_names:\n",
    "  dataframe[option] = 0\n",
    "\n",
    "column = dataframe['Select the choices that describe your partner:']\n",
    "\n",
    "## Search for value in the column's row and add 1 in the record of its respective binary column\n",
    "for i in range(len(column)):\n",
    "  if (type(column[i]) != float):\n",
    "    words = column[i].split(';')\n",
    "    for word in words:\n",
    "      option = f\"partner_is_{word.replace(' ', '_')}\"\n",
    "      if (option in Q_23_binary_column_names):\n",
    "        # dataframe[option][i] = 1\n",
    "        dataframe.loc[i, option] = 1\n",
    "\n",
    "## Delete non-binary column\n",
    "dataframe = dataframe.drop('Select the choices that describe your partner:', axis = 1)\n"
   ]
  },
  {
   "cell_type": "code",
   "execution_count": 9,
   "id": "8627a174",
   "metadata": {},
   "outputs": [],
   "source": [
    "## Initialize column names to create columns\n",
    "\n",
    "Q_24_binary_column_names = [\n",
    "  'user_is_Thoughtful', \n",
    "  'user_is_Compassionate', \n",
    "  'user_is_Supportive', \n",
    "  'user_is_Understanding', \n",
    "  'user_is_Patient', \n",
    "  'user_is_Dishonest', \n",
    "  'user_is_Poor_communication_skills', \n",
    "  'user_is_Un-empathetic', \n",
    "  'user_is_Selfish', \n",
    "  'user_is_Poor_temper_control', \n",
    "  'user_is_Unreliable', \n",
    "  'user_is_Close-minded', \n",
    "  'user_is_Impatient', \n",
    "  'user_is_Controlling', \n",
    "]\n",
    "\n",
    "for option in Q_24_binary_column_names:\n",
    "  dataframe[option] = 0\n",
    "\n",
    "column = dataframe[\"Select the choices that describe yourself:\"]\n",
    "\n",
    "## Search for value in the column's row and add 1 in the record of its respective binary column\n",
    "for i in range(len(column)):\n",
    "  if (type(column[i]) != float):\n",
    "    words = column[i].split(';')\n",
    "    for word in words:\n",
    "      option = f\"user_is_{word.replace(' ', '_')}\"\n",
    "      if (option in Q_24_binary_column_names):\n",
    "        # dataframe[option][i] = 1\n",
    "        dataframe.loc[i, option] = 1\n",
    "\n",
    "## Delete non-binary column\n",
    "dataframe = dataframe.drop(\"Select the choices that describe yourself:\", axis = 1)"
   ]
  },
  {
   "cell_type": "code",
   "execution_count": 10,
   "id": "78ed2df7",
   "metadata": {},
   "outputs": [],
   "source": [
    "## Initialize column names to create columns\n",
    "\n",
    "Q25_binary_column_names = [\n",
    "  \"couple_has_Communication_(Healthy_conflict_resolution_included)\",\n",
    "  \"couple_has_Trust_and_Commitment\",\n",
    "  \"couple_has_Respect\",\n",
    "  \"couple_has_Support\",\n",
    "  \"couple_has_Shared Values_(Alignment_on_important_issues)\",\n",
    "  \"couple_has_Intimacy\",\n",
    "  \"couple_has_Independence\",\n",
    "  \"couple_has_I_will_pass_on_this_one...\",\n",
    "]\n",
    "\n",
    "for binary_column_name in Q25_binary_column_names:\n",
    "  dataframe[binary_column_name] = 0\n",
    "\n",
    "column = dataframe['Select the qualities that are not missing in your current relationship:']\n",
    "\n",
    "## Search for value in the column's row and add 1 in the record of its respective binary column\n",
    "for i in range(len(column)):\n",
    "  if (type(column[i]) != float):\n",
    "    words = column[i].split(';') \n",
    "    for word in words:\n",
    "      option = f\"couple_has_{word.replace(' ', '_')}\"\n",
    "      if (option in Q25_binary_column_names):\n",
    "        dataframe.loc[i, option] = 1\n",
    "\n",
    "## Delete non-binary column\n",
    "dataframe = dataframe.drop('Select the qualities that are not missing in your current relationship:', axis = 1)"
   ]
  },
  {
   "cell_type": "code",
   "execution_count": 11,
   "id": "a6eca64a",
   "metadata": {},
   "outputs": [],
   "source": [
    "## Initialize column names to create columns\n",
    "\n",
    "Q26_binary_column_names = [\n",
    "  \"couple_enjoys_Outdoor_and_Nature_Activities\",\n",
    "  \"couple_enjoys_Social_and_Entertainment_(Shopping,_Dining,_Parties,_Bars_...)\",\n",
    "  \"couple_enjoys_Sports_or_any_physical_activity\",\n",
    "  \"couple_enjoys_Relaxation_and_Self-care_(Yoga,_spa_...)\",\n",
    "  \"couple_enjoys_Spiritual_activities_(Meditation,_prayers_...)\",\n",
    "  \"couple_enjoys_Cultural_and_Educational_(Museums,_Historical_sites_...)\",\n",
    "  \"couple_enjoys_Entertainment_(Movies,_Amusement_parks_...)\"\n",
    "]\n",
    "\n",
    "for binary_column_name in Q26_binary_column_names:\n",
    "  dataframe[binary_column_name] = 0\n",
    "\n",
    "column = dataframe['Select the type of activities/outings that you enjoy doing with your partner:']\n",
    "\n",
    "## Search for value in the column's row and add 1 in the record of its respective binary column\n",
    "for i in range(len(column)):\n",
    "  if (type(column[i]) != float):\n",
    "    words = column[i].split(';') \n",
    "    for word in words:\n",
    "      option = f\"couple_enjoys_{word.replace(' ', '_')}\"\n",
    "      if (option in Q26_binary_column_names):\n",
    "        dataframe.loc[i, option] = 1\n",
    "\n",
    "\n",
    "## Delete non-binary column\n",
    "dataframe = dataframe.drop('Select the type of activities/outings that you enjoy doing with your partner:', axis = 1)"
   ]
  },
  {
   "cell_type": "code",
   "execution_count": 12,
   "id": "c3c992d7",
   "metadata": {},
   "outputs": [],
   "source": [
    "## Create a new binary column for each unique value in question 28's column \n",
    "\n",
    "Q28_binary_column_names = [\n",
    "  \"is_Every_day\",\n",
    "  \"is_A_few_times_a_week\",\n",
    "  \"is_Every_once_in_a_while,_but_not_every_week\",\n",
    "  \"is_We_are_very_busy_and_don't_spend_quality_time_together\"\n",
    "]\n",
    "\n",
    "for value in dataframe['How often do you and your partner spend quality time together per week?']:\n",
    "  if (type(value) != float):\n",
    "    Q_28_column_name = f\"is_{value.replace(' ', '_')}\"\n",
    "    dataframe[Q_28_column_name] = np.where(dataframe['How often do you and your partner spend quality time together per week?'] == value, 1, 0)\n",
    "\n",
    "# Delete non-binary column\n",
    "dataframe = dataframe.drop('How often do you and your partner spend quality time together per week?', axis = 1)"
   ]
  },
  {
   "cell_type": "code",
   "execution_count": 13,
   "id": "461dd818",
   "metadata": {},
   "outputs": [],
   "source": [
    "Q27 = 'My partner and I discuss and plan for our future together.'\n",
    "Q24 = \"I am open to exploring and participating in activities that my partner enjoys, even if they don't fit with my personal preferences.\"\n",
    "\n",
    "dataframe[Q27] = np.where(dataframe[Q27] > 3, 1, 0)\n",
    "dataframe[Q24] = np.where(dataframe[Q24] > 3, 1, 0)"
   ]
  },
  {
   "cell_type": "code",
   "execution_count": 19,
   "id": "396b2547",
   "metadata": {},
   "outputs": [],
   "source": [
    "\n",
    "dataframe = dataframe.drop('How do you feel about your current relationship?', axis = 1)\n",
    "dataframe = dataframe.drop('Select the choices that describe your partner:', axis = 1)\n",
    "dataframe = dataframe.drop('Select the choices that describe yourself:', axis = 1)\n",
    "dataframe = dataframe.drop('Select the qualities that are not missing in your current relationship:', axis = 1)\n",
    "dataframe = dataframe.drop(\"I am open to exploring and participating in activities that my partner enjoys, even if they don't fit with my personal preferences.\", axis = 1)\n",
    "dataframe = dataframe.drop('My partner and I discuss and plan for our future together.', axis = 1)\n",
    "\n",
    "dataframe = dataframe.drop('Select the type of activities/outings that you enjoy doing with your partner:', axis = 1)\n",
    "dataframe = dataframe.drop('How often do you and your partner spend quality time together per week?', axis = 1)\n",
    "\n",
    "dataframe = dataframe.rename(columns = {'Are you currently in a relationship?' : 'in_a_relationship'})"
   ]
  },
  {
   "cell_type": "code",
   "execution_count": null,
   "id": "8a2401a7",
   "metadata": {},
   "outputs": [],
   "source": [
    "# import arff\n",
    "\n",
    "# # Assuming 'dataframe' is your pandas DataFrame\n",
    "# with open('combined_dataset_revised.arff', 'w') as f:\n",
    "#     arff.dump({\n",
    "#         'data': dataframe.values.tolist(),\n",
    "#         'attributes': [(col, 'NUMERIC') for col in dataframe.columns],\n",
    "#         'relation': 'relation name'\n",
    "#     }, f)"
   ]
  },
  {
   "cell_type": "code",
   "execution_count": null,
   "id": "aab2ab9b",
   "metadata": {},
   "outputs": [],
   "source": [
    "# dataframe.to_csv('combined_dataset_revised_csv')\n",
    "dataframe.iloc[0:50,19:30]"
   ]
  },
  {
   "cell_type": "code",
   "execution_count": null,
   "id": "6a18ce50",
   "metadata": {},
   "outputs": [],
   "source": [
    "# dataframe2 = pd.read_csv('dataset_1/combined_dataset_revised.csv')\n",
    "# dataframe2"
   ]
  }
 ],
 "metadata": {
  "kernelspec": {
   "display_name": "Python 3 (ipykernel)",
   "language": "python",
   "name": "python3"
  },
  "language_info": {
   "codemirror_mode": {
    "name": "ipython",
    "version": 3
   },
   "file_extension": ".py",
   "mimetype": "text/x-python",
   "name": "python",
   "nbconvert_exporter": "python",
   "pygments_lexer": "ipython3",
   "version": "3.10.7"
  }
 },
 "nbformat": 4,
 "nbformat_minor": 5
}
